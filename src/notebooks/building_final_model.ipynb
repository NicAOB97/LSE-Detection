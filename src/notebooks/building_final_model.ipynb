{
 "cells": [
  {
   "cell_type": "code",
   "execution_count": 1,
   "metadata": {},
   "outputs": [],
   "source": [
    "import numpy as np \n",
    "import os\n",
    "from sklearn.model_selection import train_test_split\n",
    "from tensorflow.keras.utils import to_categorical\n",
    "from tensorflow.keras.models import Sequential\n",
    "from tensorflow.keras.layers import LSTM, Dense\n",
    "from tensorflow.keras.callbacks import TensorBoard"
   ]
  },
  {
   "cell_type": "code",
   "execution_count": 2,
   "metadata": {},
   "outputs": [],
   "source": [
    "# Path for exported data, numpy arrays\n",
    "DATA_PATH = os.path.join('../data/processed_data/MP_Data') \n",
    "# Actions that we try to detect\n",
    "actions = ['hola', 'a', 'b', 'c', 'i', 'n']\n",
    "key = [1,2,3,4,5,6]\n",
    "key_action = dict(zip(key,actions))\n",
    "\n",
    "# number of videos collected \n",
    "no_sequences = 12\n",
    "# Videos are going to be 20 frames in length\n",
    "sequence_length = 10\n"
   ]
  },
  {
   "cell_type": "markdown",
   "metadata": {},
   "source": [
    "### Creation of training and testing data"
   ]
  },
  {
   "cell_type": "code",
   "execution_count": 3,
   "metadata": {},
   "outputs": [],
   "source": [
    "# dictionary with map of labels: \n",
    "labels_dict = {label:num for num, label in enumerate(actions)}"
   ]
  },
  {
   "cell_type": "code",
   "execution_count": 34,
   "metadata": {},
   "outputs": [
    {
     "data": {
      "text/plain": [
       "{'hola': 0, 'a': 1, 'b': 2, 'c': 3, 'i': 4, 'n': 5}"
      ]
     },
     "execution_count": 34,
     "metadata": {},
     "output_type": "execute_result"
    }
   ],
   "source": [
    "labels_dict"
   ]
  },
  {
   "cell_type": "code",
   "execution_count": 4,
   "metadata": {},
   "outputs": [],
   "source": [
    "sequences, labels = [], []\n",
    "for action in actions:\n",
    "    for sequence in range(no_sequences):\n",
    "        window = []\n",
    "        for frame_num in range(sequence_length):\n",
    "            res = np.load(os.path.join(DATA_PATH, action, str(sequence), \"{}.npy\".format(frame_num)), allow_pickle=True)\n",
    "            window.append(res)\n",
    "        sequences.append(window)\n",
    "        labels.append(labels_dict[action])"
   ]
  },
  {
   "cell_type": "code",
   "execution_count": 5,
   "metadata": {},
   "outputs": [
    {
     "data": {
      "text/plain": [
       "(72, 10, 126)"
      ]
     },
     "execution_count": 5,
     "metadata": {},
     "output_type": "execute_result"
    }
   ],
   "source": [
    "np.array(sequences).shape"
   ]
  },
  {
   "cell_type": "markdown",
   "metadata": {},
   "source": [
    "# creating x and y variables for model training"
   ]
  },
  {
   "cell_type": "code",
   "execution_count": 37,
   "metadata": {},
   "outputs": [],
   "source": [
    "X = np.array(sequences)"
   ]
  },
  {
   "cell_type": "code",
   "execution_count": 38,
   "metadata": {},
   "outputs": [
    {
     "data": {
      "text/plain": [
       "(72, 10, 126)"
      ]
     },
     "execution_count": 38,
     "metadata": {},
     "output_type": "execute_result"
    }
   ],
   "source": [
    "X.shape"
   ]
  },
  {
   "cell_type": "code",
   "execution_count": 39,
   "metadata": {},
   "outputs": [],
   "source": [
    "y = to_categorical(labels).astype(int)"
   ]
  },
  {
   "cell_type": "code",
   "execution_count": 40,
   "metadata": {},
   "outputs": [],
   "source": [
    "X_train, X_test, y_train, y_test = train_test_split(X, y, test_size=0.10)"
   ]
  },
  {
   "cell_type": "code",
   "execution_count": 41,
   "metadata": {},
   "outputs": [
    {
     "name": "stdout",
     "output_type": "stream",
     "text": [
      "(64, 10, 126)\n",
      "(8, 10, 126)\n",
      "(64, 6)\n",
      "(8, 6)\n"
     ]
    }
   ],
   "source": [
    "print(X_train.shape)\n",
    "print(X_test.shape)\n",
    "print(y_train.shape)\n",
    "print(y_test.shape)"
   ]
  },
  {
   "cell_type": "markdown",
   "metadata": {},
   "source": [
    "### build and train LSTM model Neural Network"
   ]
  },
  {
   "cell_type": "code",
   "execution_count": 42,
   "metadata": {},
   "outputs": [
    {
     "name": "stderr",
     "output_type": "stream",
     "text": [
      "2022-04-16 19:06:26.323690: I tensorflow/core/profiler/lib/profiler_session.cc:136] Profiler session initializing.\n",
      "2022-04-16 19:06:26.323715: I tensorflow/core/profiler/lib/profiler_session.cc:155] Profiler session started.\n",
      "2022-04-16 19:06:26.323748: I tensorflow/core/profiler/lib/profiler_session.cc:172] Profiler session tear down.\n"
     ]
    }
   ],
   "source": [
    "## allows to monitor accuracy while its training\n",
    "# check on terminal- into Logs folder:  tensorboard --logdir=. \n",
    "# copy link \n",
    "\n",
    "log_dir = os.path.join('Logs')\n",
    "tb_callback = TensorBoard(log_dir=log_dir)"
   ]
  },
  {
   "cell_type": "code",
   "execution_count": 43,
   "metadata": {},
   "outputs": [],
   "source": [
    "model = Sequential()\n",
    "# Long short-term memory \n",
    "model.add(LSTM(64, return_sequences=True, activation='relu', input_shape=(10,126))) # returning sequences for next layer \n",
    "model.add(LSTM(128, return_sequences=True, activation='relu')) # returning sequences for next layer \n",
    "model.add(LSTM(64, return_sequences=False, activation='relu'))\n",
    "# Dense layer: each neuron receives input from all the neurons of previous layer\n",
    "model.add(Dense(64, activation='relu'))\n",
    "model.add(Dense(32, activation='relu'))\n",
    "model.add(Dense(len(actions), activation='softmax'))"
   ]
  },
  {
   "cell_type": "code",
   "execution_count": 44,
   "metadata": {},
   "outputs": [],
   "source": [
    "# loss categorical_crossentropy because it is a multiclass classification\n",
    "model.compile(optimizer='Adam', loss='categorical_crossentropy', metrics=['categorical_accuracy'])"
   ]
  },
  {
   "cell_type": "code",
   "execution_count": 45,
   "metadata": {},
   "outputs": [
    {
     "name": "stdout",
     "output_type": "stream",
     "text": [
      "Epoch 1/200\n",
      " 2/10 [=====>........................] - ETA: 0s - loss: 1.7912 - categorical_accuracy: 0.2500 "
     ]
    },
    {
     "name": "stderr",
     "output_type": "stream",
     "text": [
      "2022-04-16 19:06:30.277597: I tensorflow/core/profiler/lib/profiler_session.cc:136] Profiler session initializing.\n",
      "2022-04-16 19:06:30.277621: I tensorflow/core/profiler/lib/profiler_session.cc:155] Profiler session started.\n"
     ]
    },
    {
     "name": "stdout",
     "output_type": "stream",
     "text": [
      "10/10 [==============================] - 4s 58ms/step - loss: 1.7924 - categorical_accuracy: 0.2278\n",
      "Epoch 2/200\n",
      " 1/10 [==>...........................] - ETA: 0s - loss: 1.7850 - categorical_accuracy: 0.2857"
     ]
    },
    {
     "name": "stderr",
     "output_type": "stream",
     "text": [
      "2022-04-16 19:06:30.481270: I tensorflow/core/profiler/lib/profiler_session.cc:71] Profiler session collecting data.\n",
      "2022-04-16 19:06:30.503367: I tensorflow/core/profiler/lib/profiler_session.cc:172] Profiler session tear down.\n",
      "2022-04-16 19:06:30.524668: I tensorflow/core/profiler/rpc/client/save_profile.cc:137] Creating directory: Logs/train/plugins/profile/2022_04_16_19_06_30\n",
      "2022-04-16 19:06:30.539613: I tensorflow/core/profiler/rpc/client/save_profile.cc:143] Dumped gzipped tool data for trace.json.gz to Logs/train/plugins/profile/2022_04_16_19_06_30/GG-McAir.local.trace.json.gz\n",
      "2022-04-16 19:06:30.553396: I tensorflow/core/profiler/rpc/client/save_profile.cc:137] Creating directory: Logs/train/plugins/profile/2022_04_16_19_06_30\n",
      "2022-04-16 19:06:30.553753: I tensorflow/core/profiler/rpc/client/save_profile.cc:143] Dumped gzipped tool data for memory_profile.json.gz to Logs/train/plugins/profile/2022_04_16_19_06_30/GG-McAir.local.memory_profile.json.gz\n",
      "2022-04-16 19:06:30.556955: I tensorflow/core/profiler/rpc/client/capture_profile.cc:251] Creating directory: Logs/train/plugins/profile/2022_04_16_19_06_30Dumped tool data for xplane.pb to Logs/train/plugins/profile/2022_04_16_19_06_30/GG-McAir.local.xplane.pb\n",
      "Dumped tool data for overview_page.pb to Logs/train/plugins/profile/2022_04_16_19_06_30/GG-McAir.local.overview_page.pb\n",
      "Dumped tool data for input_pipeline.pb to Logs/train/plugins/profile/2022_04_16_19_06_30/GG-McAir.local.input_pipeline.pb\n",
      "Dumped tool data for tensorflow_stats.pb to Logs/train/plugins/profile/2022_04_16_19_06_30/GG-McAir.local.tensorflow_stats.pb\n",
      "Dumped tool data for kernel_stats.pb to Logs/train/plugins/profile/2022_04_16_19_06_30/GG-McAir.local.kernel_stats.pb\n",
      "\n"
     ]
    },
    {
     "name": "stdout",
     "output_type": "stream",
     "text": [
      "10/10 [==============================] - 0s 15ms/step - loss: 1.7839 - categorical_accuracy: 0.1972\n",
      "Epoch 3/200\n",
      "10/10 [==============================] - 0s 20ms/step - loss: 1.7770 - categorical_accuracy: 0.3178\n",
      "Epoch 4/200\n",
      "10/10 [==============================] - 0s 21ms/step - loss: 1.7685 - categorical_accuracy: 0.2418\n",
      "Epoch 5/200\n",
      "10/10 [==============================] - 0s 23ms/step - loss: 1.7428 - categorical_accuracy: 0.3011\n",
      "Epoch 6/200\n",
      "10/10 [==============================] - 0s 20ms/step - loss: 1.6555 - categorical_accuracy: 0.2550\n",
      "Epoch 7/200\n",
      "10/10 [==============================] - 0s 28ms/step - loss: 1.8468 - categorical_accuracy: 0.1805\n",
      "Epoch 8/200\n",
      "10/10 [==============================] - 0s 26ms/step - loss: 1.6626 - categorical_accuracy: 0.2617\n",
      "Epoch 9/200\n",
      "10/10 [==============================] - 0s 23ms/step - loss: 1.5587 - categorical_accuracy: 0.3892\n",
      "Epoch 10/200\n",
      "10/10 [==============================] - 0s 24ms/step - loss: 1.4858 - categorical_accuracy: 0.4320\n",
      "Epoch 11/200\n",
      "10/10 [==============================] - 0s 25ms/step - loss: 1.3746 - categorical_accuracy: 0.5415\n",
      "Epoch 12/200\n",
      "10/10 [==============================] - 0s 24ms/step - loss: 1.3980 - categorical_accuracy: 0.3138\n",
      "Epoch 13/200\n",
      "10/10 [==============================] - 0s 23ms/step - loss: 1.4373 - categorical_accuracy: 0.3218\n",
      "Epoch 14/200\n",
      "10/10 [==============================] - 0s 26ms/step - loss: 1.3975 - categorical_accuracy: 0.4144\n",
      "Epoch 15/200\n",
      "10/10 [==============================] - 0s 25ms/step - loss: 1.3344 - categorical_accuracy: 0.5078\n",
      "Epoch 16/200\n",
      "10/10 [==============================] - 0s 26ms/step - loss: 1.8511 - categorical_accuracy: 0.4426\n",
      "Epoch 17/200\n",
      "10/10 [==============================] - 0s 30ms/step - loss: 1.5722 - categorical_accuracy: 0.4665\n",
      "Epoch 18/200\n",
      "10/10 [==============================] - 0s 33ms/step - loss: 1.5269 - categorical_accuracy: 0.3882\n",
      "Epoch 19/200\n",
      "10/10 [==============================] - 0s 23ms/step - loss: 1.4580 - categorical_accuracy: 0.4407\n",
      "Epoch 20/200\n",
      "10/10 [==============================] - 0s 25ms/step - loss: 1.2868 - categorical_accuracy: 0.5224\n",
      "Epoch 21/200\n",
      "10/10 [==============================] - 0s 24ms/step - loss: 1.7311 - categorical_accuracy: 0.4741\n",
      "Epoch 22/200\n",
      "10/10 [==============================] - 0s 25ms/step - loss: 1.7759 - categorical_accuracy: 0.1944\n",
      "Epoch 23/200\n",
      "10/10 [==============================] - 0s 32ms/step - loss: 1.6391 - categorical_accuracy: 0.2979\n",
      "Epoch 24/200\n",
      "10/10 [==============================] - 0s 25ms/step - loss: 1.4660 - categorical_accuracy: 0.3104\n",
      "Epoch 25/200\n",
      "10/10 [==============================] - 0s 24ms/step - loss: 1.2817 - categorical_accuracy: 0.4217\n",
      "Epoch 26/200\n",
      "10/10 [==============================] - 0s 28ms/step - loss: 1.2620 - categorical_accuracy: 0.4088\n",
      "Epoch 27/200\n",
      "10/10 [==============================] - 0s 23ms/step - loss: 1.2992 - categorical_accuracy: 0.4428\n",
      "Epoch 28/200\n",
      "10/10 [==============================] - 0s 18ms/step - loss: 1.1693 - categorical_accuracy: 0.5480\n",
      "Epoch 29/200\n",
      "10/10 [==============================] - 0s 21ms/step - loss: 1.1576 - categorical_accuracy: 0.5967\n",
      "Epoch 30/200\n",
      "10/10 [==============================] - 0s 17ms/step - loss: 0.8728 - categorical_accuracy: 0.5697\n",
      "Epoch 31/200\n",
      "10/10 [==============================] - 0s 21ms/step - loss: 1.1954 - categorical_accuracy: 0.4771\n",
      "Epoch 32/200\n",
      "10/10 [==============================] - 0s 23ms/step - loss: 0.9275 - categorical_accuracy: 0.6233\n",
      "Epoch 33/200\n",
      "10/10 [==============================] - 0s 25ms/step - loss: 0.9911 - categorical_accuracy: 0.5611\n",
      "Epoch 34/200\n",
      "10/10 [==============================] - 0s 24ms/step - loss: 0.7960 - categorical_accuracy: 0.6499\n",
      "Epoch 35/200\n",
      "10/10 [==============================] - 0s 21ms/step - loss: 0.8518 - categorical_accuracy: 0.6261\n",
      "Epoch 36/200\n",
      "10/10 [==============================] - 0s 21ms/step - loss: 0.8030 - categorical_accuracy: 0.6697\n",
      "Epoch 37/200\n",
      "10/10 [==============================] - 0s 22ms/step - loss: 1.1418 - categorical_accuracy: 0.5432\n",
      "Epoch 38/200\n",
      "10/10 [==============================] - 0s 21ms/step - loss: 0.8319 - categorical_accuracy: 0.6987\n",
      "Epoch 39/200\n",
      "10/10 [==============================] - 0s 23ms/step - loss: 0.8583 - categorical_accuracy: 0.6976\n",
      "Epoch 40/200\n",
      "10/10 [==============================] - 0s 21ms/step - loss: 0.7969 - categorical_accuracy: 0.7122\n",
      "Epoch 41/200\n",
      "10/10 [==============================] - 0s 20ms/step - loss: 0.8693 - categorical_accuracy: 0.5854\n",
      "Epoch 42/200\n",
      "10/10 [==============================] - 0s 22ms/step - loss: 0.7789 - categorical_accuracy: 0.6798\n",
      "Epoch 43/200\n",
      "10/10 [==============================] - 0s 21ms/step - loss: 0.8106 - categorical_accuracy: 0.5687\n",
      "Epoch 44/200\n",
      "10/10 [==============================] - 0s 19ms/step - loss: 0.8104 - categorical_accuracy: 0.7064\n",
      "Epoch 45/200\n",
      "10/10 [==============================] - 0s 21ms/step - loss: 1.2601 - categorical_accuracy: 0.4452\n",
      "Epoch 46/200\n",
      "10/10 [==============================] - 0s 22ms/step - loss: 0.9839 - categorical_accuracy: 0.7179\n",
      "Epoch 47/200\n",
      "10/10 [==============================] - 0s 21ms/step - loss: 0.7645 - categorical_accuracy: 0.7054\n",
      "Epoch 48/200\n",
      "10/10 [==============================] - 0s 20ms/step - loss: 0.7485 - categorical_accuracy: 0.6381\n",
      "Epoch 49/200\n",
      "10/10 [==============================] - 0s 22ms/step - loss: 0.6700 - categorical_accuracy: 0.7284\n",
      "Epoch 50/200\n",
      "10/10 [==============================] - 0s 25ms/step - loss: 0.7657 - categorical_accuracy: 0.6416\n",
      "Epoch 51/200\n",
      "10/10 [==============================] - 0s 24ms/step - loss: 0.9904 - categorical_accuracy: 0.6196\n",
      "Epoch 52/200\n",
      "10/10 [==============================] - 0s 21ms/step - loss: 1.0501 - categorical_accuracy: 0.5279\n",
      "Epoch 53/200\n",
      "10/10 [==============================] - 0s 22ms/step - loss: 1.2249 - categorical_accuracy: 0.3473\n",
      "Epoch 54/200\n",
      "10/10 [==============================] - 0s 24ms/step - loss: 1.3087 - categorical_accuracy: 0.5043\n",
      "Epoch 55/200\n",
      "10/10 [==============================] - 0s 23ms/step - loss: 0.8854 - categorical_accuracy: 0.6403\n",
      "Epoch 56/200\n",
      "10/10 [==============================] - 0s 23ms/step - loss: 0.7970 - categorical_accuracy: 0.6204\n",
      "Epoch 57/200\n",
      "10/10 [==============================] - 0s 21ms/step - loss: 0.6356 - categorical_accuracy: 0.6648\n",
      "Epoch 58/200\n",
      "10/10 [==============================] - 0s 18ms/step - loss: 0.7181 - categorical_accuracy: 0.5964\n",
      "Epoch 59/200\n",
      "10/10 [==============================] - 0s 19ms/step - loss: 0.6544 - categorical_accuracy: 0.6892\n",
      "Epoch 60/200\n",
      "10/10 [==============================] - 0s 20ms/step - loss: 0.6038 - categorical_accuracy: 0.7553\n",
      "Epoch 61/200\n",
      "10/10 [==============================] - 0s 17ms/step - loss: 0.5284 - categorical_accuracy: 0.7869\n",
      "Epoch 62/200\n",
      "10/10 [==============================] - 0s 17ms/step - loss: 0.6002 - categorical_accuracy: 0.7775\n",
      "Epoch 63/200\n",
      "10/10 [==============================] - 0s 19ms/step - loss: 0.4981 - categorical_accuracy: 0.8471\n",
      "Epoch 64/200\n",
      "10/10 [==============================] - 0s 20ms/step - loss: 0.8688 - categorical_accuracy: 0.6373\n",
      "Epoch 65/200\n",
      "10/10 [==============================] - 0s 22ms/step - loss: 1.7310 - categorical_accuracy: 0.6574\n",
      "Epoch 66/200\n",
      "10/10 [==============================] - 0s 18ms/step - loss: 0.8987 - categorical_accuracy: 0.6411\n",
      "Epoch 67/200\n",
      "10/10 [==============================] - 0s 16ms/step - loss: 0.7897 - categorical_accuracy: 0.8066\n",
      "Epoch 68/200\n",
      "10/10 [==============================] - 0s 20ms/step - loss: 0.7497 - categorical_accuracy: 0.7001\n",
      "Epoch 69/200\n",
      "10/10 [==============================] - 0s 21ms/step - loss: 0.7474 - categorical_accuracy: 0.6631\n",
      "Epoch 70/200\n",
      "10/10 [==============================] - 0s 18ms/step - loss: 0.7060 - categorical_accuracy: 0.7269\n",
      "Epoch 71/200\n",
      "10/10 [==============================] - 0s 20ms/step - loss: 0.7252 - categorical_accuracy: 0.6941\n",
      "Epoch 72/200\n",
      "10/10 [==============================] - 0s 19ms/step - loss: 0.5376 - categorical_accuracy: 0.8247\n",
      "Epoch 73/200\n",
      "10/10 [==============================] - 0s 20ms/step - loss: 0.6032 - categorical_accuracy: 0.7499\n",
      "Epoch 74/200\n",
      "10/10 [==============================] - 0s 20ms/step - loss: 0.6358 - categorical_accuracy: 0.7764\n",
      "Epoch 75/200\n",
      "10/10 [==============================] - 0s 19ms/step - loss: 0.7963 - categorical_accuracy: 0.6515\n",
      "Epoch 76/200\n",
      "10/10 [==============================] - 0s 20ms/step - loss: 0.7916 - categorical_accuracy: 0.6857\n",
      "Epoch 77/200\n",
      "10/10 [==============================] - 0s 23ms/step - loss: 0.7692 - categorical_accuracy: 0.6793\n",
      "Epoch 78/200\n",
      "10/10 [==============================] - 0s 19ms/step - loss: 0.6387 - categorical_accuracy: 0.7084\n",
      "Epoch 79/200\n",
      "10/10 [==============================] - 0s 19ms/step - loss: 0.7964 - categorical_accuracy: 0.7002\n",
      "Epoch 80/200\n",
      "10/10 [==============================] - 0s 20ms/step - loss: 0.8246 - categorical_accuracy: 0.6631\n",
      "Epoch 81/200\n",
      "10/10 [==============================] - 0s 20ms/step - loss: 0.7999 - categorical_accuracy: 0.6188\n",
      "Epoch 82/200\n",
      "10/10 [==============================] - 0s 19ms/step - loss: 0.7314 - categorical_accuracy: 0.6125\n",
      "Epoch 83/200\n",
      "10/10 [==============================] - 0s 20ms/step - loss: 0.7366 - categorical_accuracy: 0.7439\n",
      "Epoch 84/200\n",
      "10/10 [==============================] - 0s 19ms/step - loss: 0.6412 - categorical_accuracy: 0.7861\n",
      "Epoch 85/200\n",
      "10/10 [==============================] - 0s 18ms/step - loss: 0.5315 - categorical_accuracy: 0.8259\n",
      "Epoch 86/200\n",
      "10/10 [==============================] - 0s 20ms/step - loss: 0.5917 - categorical_accuracy: 0.7673\n",
      "Epoch 87/200\n",
      "10/10 [==============================] - 0s 21ms/step - loss: 0.5478 - categorical_accuracy: 0.7752\n",
      "Epoch 88/200\n",
      "10/10 [==============================] - 0s 19ms/step - loss: 0.4550 - categorical_accuracy: 0.8002\n",
      "Epoch 89/200\n",
      "10/10 [==============================] - 0s 19ms/step - loss: 0.5045 - categorical_accuracy: 0.8598\n",
      "Epoch 90/200\n",
      "10/10 [==============================] - 0s 21ms/step - loss: 0.4167 - categorical_accuracy: 0.8324\n",
      "Epoch 91/200\n",
      "10/10 [==============================] - 0s 19ms/step - loss: 0.4657 - categorical_accuracy: 0.7916\n",
      "Epoch 92/200\n",
      "10/10 [==============================] - 0s 21ms/step - loss: 0.5794 - categorical_accuracy: 0.7279\n",
      "Epoch 93/200\n",
      "10/10 [==============================] - 0s 20ms/step - loss: 0.9822 - categorical_accuracy: 0.6444\n",
      "Epoch 94/200\n",
      "10/10 [==============================] - 0s 17ms/step - loss: 1.5286 - categorical_accuracy: 0.5142\n",
      "Epoch 95/200\n",
      "10/10 [==============================] - 0s 20ms/step - loss: 1.2232 - categorical_accuracy: 0.4902\n",
      "Epoch 96/200\n",
      "10/10 [==============================] - 0s 21ms/step - loss: 1.1498 - categorical_accuracy: 0.5626\n",
      "Epoch 97/200\n",
      "10/10 [==============================] - 0s 20ms/step - loss: 1.0051 - categorical_accuracy: 0.7468\n",
      "Epoch 98/200\n",
      "10/10 [==============================] - 0s 20ms/step - loss: 0.8734 - categorical_accuracy: 0.6316\n",
      "Epoch 99/200\n",
      "10/10 [==============================] - 0s 20ms/step - loss: 0.7628 - categorical_accuracy: 0.6524\n",
      "Epoch 100/200\n",
      "10/10 [==============================] - 0s 22ms/step - loss: 0.7624 - categorical_accuracy: 0.6794\n",
      "Epoch 101/200\n",
      "10/10 [==============================] - 0s 21ms/step - loss: 1.2431 - categorical_accuracy: 0.6749\n",
      "Epoch 102/200\n",
      "10/10 [==============================] - 0s 19ms/step - loss: 1.1760 - categorical_accuracy: 0.4933\n",
      "Epoch 103/200\n",
      "10/10 [==============================] - 0s 20ms/step - loss: 1.2511 - categorical_accuracy: 0.4632\n",
      "Epoch 104/200\n",
      "10/10 [==============================] - 0s 21ms/step - loss: 1.0113 - categorical_accuracy: 0.6125\n",
      "Epoch 105/200\n",
      "10/10 [==============================] - 0s 22ms/step - loss: 1.0607 - categorical_accuracy: 0.5148\n",
      "Epoch 106/200\n",
      "10/10 [==============================] - 0s 19ms/step - loss: 0.9171 - categorical_accuracy: 0.5591\n",
      "Epoch 107/200\n",
      "10/10 [==============================] - 0s 19ms/step - loss: 0.7869 - categorical_accuracy: 0.7338\n",
      "Epoch 108/200\n",
      "10/10 [==============================] - 0s 21ms/step - loss: 0.8420 - categorical_accuracy: 0.6772\n",
      "Epoch 109/200\n",
      "10/10 [==============================] - 0s 21ms/step - loss: 0.6210 - categorical_accuracy: 0.7439\n",
      "Epoch 110/200\n",
      "10/10 [==============================] - 0s 20ms/step - loss: 0.6397 - categorical_accuracy: 0.7346\n",
      "Epoch 111/200\n",
      "10/10 [==============================] - 0s 20ms/step - loss: 0.7569 - categorical_accuracy: 0.6919\n",
      "Epoch 112/200\n",
      "10/10 [==============================] - 0s 20ms/step - loss: 0.7718 - categorical_accuracy: 0.5643\n",
      "Epoch 113/200\n",
      "10/10 [==============================] - 0s 21ms/step - loss: 0.6066 - categorical_accuracy: 0.7537\n",
      "Epoch 114/200\n",
      "10/10 [==============================] - 0s 22ms/step - loss: 0.8010 - categorical_accuracy: 0.6846\n",
      "Epoch 115/200\n",
      "10/10 [==============================] - 0s 22ms/step - loss: 0.8906 - categorical_accuracy: 0.7878\n",
      "Epoch 116/200\n",
      "10/10 [==============================] - 0s 19ms/step - loss: 0.8995 - categorical_accuracy: 0.6150\n",
      "Epoch 117/200\n",
      "10/10 [==============================] - 0s 21ms/step - loss: 0.8739 - categorical_accuracy: 0.5574\n",
      "Epoch 118/200\n",
      "10/10 [==============================] - 0s 22ms/step - loss: 0.8387 - categorical_accuracy: 0.6015\n",
      "Epoch 119/200\n",
      "10/10 [==============================] - 0s 22ms/step - loss: 0.7223 - categorical_accuracy: 0.7498\n",
      "Epoch 120/200\n",
      "10/10 [==============================] - 0s 21ms/step - loss: 0.6470 - categorical_accuracy: 0.7728\n",
      "Epoch 121/200\n",
      "10/10 [==============================] - 0s 21ms/step - loss: 0.7114 - categorical_accuracy: 0.7331\n",
      "Epoch 122/200\n",
      "10/10 [==============================] - 0s 17ms/step - loss: 0.5324 - categorical_accuracy: 0.8158\n",
      "Epoch 123/200\n",
      "10/10 [==============================] - 0s 21ms/step - loss: 0.4965 - categorical_accuracy: 0.8133\n",
      "Epoch 124/200\n",
      "10/10 [==============================] - 0s 20ms/step - loss: 0.6044 - categorical_accuracy: 0.7338\n",
      "Epoch 125/200\n",
      "10/10 [==============================] - 0s 21ms/step - loss: 0.7143 - categorical_accuracy: 0.6651\n",
      "Epoch 126/200\n",
      "10/10 [==============================] - 0s 19ms/step - loss: 0.6356 - categorical_accuracy: 0.6865\n",
      "Epoch 127/200\n",
      "10/10 [==============================] - 0s 23ms/step - loss: 0.4524 - categorical_accuracy: 0.8408\n",
      "Epoch 128/200\n",
      "10/10 [==============================] - 0s 19ms/step - loss: 0.5381 - categorical_accuracy: 0.7615\n",
      "Epoch 129/200\n",
      "10/10 [==============================] - 0s 21ms/step - loss: 0.3816 - categorical_accuracy: 0.8092\n",
      "Epoch 130/200\n",
      "10/10 [==============================] - 0s 21ms/step - loss: 0.6415 - categorical_accuracy: 0.6841\n",
      "Epoch 131/200\n",
      "10/10 [==============================] - 0s 22ms/step - loss: 0.8853 - categorical_accuracy: 0.7164\n",
      "Epoch 132/200\n",
      "10/10 [==============================] - 0s 22ms/step - loss: 0.6886 - categorical_accuracy: 0.6637\n",
      "Epoch 133/200\n",
      "10/10 [==============================] - 0s 21ms/step - loss: 0.5713 - categorical_accuracy: 0.7519\n",
      "Epoch 134/200\n",
      "10/10 [==============================] - 0s 21ms/step - loss: 0.4364 - categorical_accuracy: 0.8434\n",
      "Epoch 135/200\n",
      "10/10 [==============================] - 0s 21ms/step - loss: 0.4074 - categorical_accuracy: 0.8453\n",
      "Epoch 136/200\n",
      "10/10 [==============================] - 0s 21ms/step - loss: 0.4201 - categorical_accuracy: 0.8252\n",
      "Epoch 137/200\n",
      "10/10 [==============================] - 0s 22ms/step - loss: 0.4869 - categorical_accuracy: 0.8644\n",
      "Epoch 138/200\n",
      "10/10 [==============================] - 0s 27ms/step - loss: 0.3193 - categorical_accuracy: 0.9105\n",
      "Epoch 139/200\n",
      "10/10 [==============================] - 0s 21ms/step - loss: 0.3600 - categorical_accuracy: 0.8685\n",
      "Epoch 140/200\n",
      "10/10 [==============================] - 0s 21ms/step - loss: 0.2936 - categorical_accuracy: 0.8568\n",
      "Epoch 141/200\n",
      "10/10 [==============================] - 0s 20ms/step - loss: 0.4346 - categorical_accuracy: 0.8039\n",
      "Epoch 142/200\n",
      "10/10 [==============================] - 0s 21ms/step - loss: 0.4103 - categorical_accuracy: 0.8446\n",
      "Epoch 143/200\n",
      "10/10 [==============================] - 0s 22ms/step - loss: 0.3937 - categorical_accuracy: 0.8127\n",
      "Epoch 144/200\n",
      "10/10 [==============================] - 0s 21ms/step - loss: 0.4788 - categorical_accuracy: 0.7782\n",
      "Epoch 145/200\n",
      "10/10 [==============================] - 0s 21ms/step - loss: 0.4083 - categorical_accuracy: 0.8147\n",
      "Epoch 146/200\n",
      "10/10 [==============================] - 0s 21ms/step - loss: 0.5508 - categorical_accuracy: 0.7446\n",
      "Epoch 147/200\n",
      "10/10 [==============================] - 0s 21ms/step - loss: 0.2855 - categorical_accuracy: 0.9290\n",
      "Epoch 148/200\n",
      "10/10 [==============================] - 0s 22ms/step - loss: 0.2522 - categorical_accuracy: 0.8927\n",
      "Epoch 149/200\n",
      "10/10 [==============================] - 0s 25ms/step - loss: 0.2881 - categorical_accuracy: 0.8852\n",
      "Epoch 150/200\n",
      "10/10 [==============================] - 0s 28ms/step - loss: 0.2627 - categorical_accuracy: 0.8998\n",
      "Epoch 151/200\n",
      "10/10 [==============================] - 0s 22ms/step - loss: 0.3497 - categorical_accuracy: 0.8030\n",
      "Epoch 152/200\n",
      "10/10 [==============================] - 0s 21ms/step - loss: 0.3795 - categorical_accuracy: 0.8982\n",
      "Epoch 153/200\n",
      "10/10 [==============================] - 0s 21ms/step - loss: 0.4794 - categorical_accuracy: 0.7918\n",
      "Epoch 154/200\n",
      "10/10 [==============================] - 0s 24ms/step - loss: 0.3011 - categorical_accuracy: 0.9038\n",
      "Epoch 155/200\n",
      "10/10 [==============================] - 0s 20ms/step - loss: 0.5320 - categorical_accuracy: 0.7571\n",
      "Epoch 156/200\n",
      "10/10 [==============================] - 0s 20ms/step - loss: 0.4957 - categorical_accuracy: 0.8200\n",
      "Epoch 157/200\n",
      "10/10 [==============================] - 0s 22ms/step - loss: 0.6253 - categorical_accuracy: 0.8289\n",
      "Epoch 158/200\n",
      "10/10 [==============================] - 0s 18ms/step - loss: 0.4692 - categorical_accuracy: 0.8031\n",
      "Epoch 159/200\n",
      "10/10 [==============================] - 0s 22ms/step - loss: 0.3440 - categorical_accuracy: 0.9001\n",
      "Epoch 160/200\n",
      "10/10 [==============================] - 0s 21ms/step - loss: 0.3596 - categorical_accuracy: 0.8484\n",
      "Epoch 161/200\n",
      "10/10 [==============================] - 0s 19ms/step - loss: 0.3884 - categorical_accuracy: 0.8764\n",
      "Epoch 162/200\n",
      "10/10 [==============================] - 0s 22ms/step - loss: 0.4428 - categorical_accuracy: 0.8118\n",
      "Epoch 163/200\n",
      "10/10 [==============================] - 0s 21ms/step - loss: 0.2930 - categorical_accuracy: 0.9309\n",
      "Epoch 164/200\n",
      "10/10 [==============================] - 0s 20ms/step - loss: 0.3020 - categorical_accuracy: 0.9116\n",
      "Epoch 165/200\n",
      "10/10 [==============================] - 0s 21ms/step - loss: 0.3065 - categorical_accuracy: 0.8967\n",
      "Epoch 166/200\n",
      "10/10 [==============================] - 0s 21ms/step - loss: 0.1678 - categorical_accuracy: 0.9622\n",
      "Epoch 167/200\n",
      "10/10 [==============================] - 0s 22ms/step - loss: 0.1990 - categorical_accuracy: 0.9823\n",
      "Epoch 168/200\n",
      "10/10 [==============================] - 0s 24ms/step - loss: 0.1436 - categorical_accuracy: 0.9561\n",
      "Epoch 169/200\n",
      "10/10 [==============================] - 0s 21ms/step - loss: 0.1270 - categorical_accuracy: 0.9681\n",
      "Epoch 170/200\n",
      "10/10 [==============================] - 0s 20ms/step - loss: 0.1166 - categorical_accuracy: 0.9384\n",
      "Epoch 171/200\n",
      "10/10 [==============================] - 0s 22ms/step - loss: 0.8479 - categorical_accuracy: 0.8432\n",
      "Epoch 172/200\n",
      "10/10 [==============================] - 0s 21ms/step - loss: 0.8272 - categorical_accuracy: 0.7529\n",
      "Epoch 173/200\n",
      "10/10 [==============================] - 0s 22ms/step - loss: 0.4383 - categorical_accuracy: 0.8386\n",
      "Epoch 174/200\n",
      "10/10 [==============================] - 0s 20ms/step - loss: 0.4285 - categorical_accuracy: 0.8135\n",
      "Epoch 175/200\n",
      "10/10 [==============================] - 0s 21ms/step - loss: 0.4109 - categorical_accuracy: 0.8748\n",
      "Epoch 176/200\n",
      "10/10 [==============================] - 0s 21ms/step - loss: 0.2765 - categorical_accuracy: 0.9587\n",
      "Epoch 177/200\n",
      "10/10 [==============================] - 0s 23ms/step - loss: 0.1944 - categorical_accuracy: 0.9674\n",
      "Epoch 178/200\n",
      "10/10 [==============================] - 0s 21ms/step - loss: 0.1947 - categorical_accuracy: 0.9103\n",
      "Epoch 179/200\n",
      "10/10 [==============================] - 0s 22ms/step - loss: 0.1506 - categorical_accuracy: 0.9467\n",
      "Epoch 180/200\n",
      "10/10 [==============================] - 0s 23ms/step - loss: 0.0912 - categorical_accuracy: 0.9901\n",
      "Epoch 181/200\n",
      "10/10 [==============================] - 0s 22ms/step - loss: 0.0582 - categorical_accuracy: 0.9922\n",
      "Epoch 182/200\n",
      "10/10 [==============================] - 0s 21ms/step - loss: 0.2048 - categorical_accuracy: 0.9455\n",
      "Epoch 183/200\n",
      "10/10 [==============================] - 0s 22ms/step - loss: 0.1971 - categorical_accuracy: 0.9511\n",
      "Epoch 184/200\n",
      "10/10 [==============================] - 0s 25ms/step - loss: 0.3770 - categorical_accuracy: 0.8667\n",
      "Epoch 185/200\n",
      "10/10 [==============================] - 0s 22ms/step - loss: 0.1238 - categorical_accuracy: 0.9359\n",
      "Epoch 186/200\n",
      "10/10 [==============================] - 0s 22ms/step - loss: 0.5580 - categorical_accuracy: 0.8344\n",
      "Epoch 187/200\n",
      "10/10 [==============================] - 0s 21ms/step - loss: 0.9327 - categorical_accuracy: 0.7511\n",
      "Epoch 188/200\n",
      "10/10 [==============================] - 0s 22ms/step - loss: 0.6096 - categorical_accuracy: 0.7757\n",
      "Epoch 189/200\n",
      "10/10 [==============================] - 0s 21ms/step - loss: 0.7948 - categorical_accuracy: 0.6275\n",
      "Epoch 190/200\n",
      "10/10 [==============================] - 0s 22ms/step - loss: 0.7931 - categorical_accuracy: 0.6643\n",
      "Epoch 191/200\n",
      "10/10 [==============================] - 0s 21ms/step - loss: 0.7087 - categorical_accuracy: 0.7591\n",
      "Epoch 192/200\n",
      "10/10 [==============================] - 0s 21ms/step - loss: 0.6288 - categorical_accuracy: 0.6718\n",
      "Epoch 193/200\n",
      "10/10 [==============================] - 0s 23ms/step - loss: 0.7509 - categorical_accuracy: 0.6910\n",
      "Epoch 194/200\n",
      "10/10 [==============================] - 0s 23ms/step - loss: 0.7616 - categorical_accuracy: 0.5293\n",
      "Epoch 195/200\n",
      "10/10 [==============================] - 0s 22ms/step - loss: 0.7511 - categorical_accuracy: 0.6332\n",
      "Epoch 196/200\n",
      "10/10 [==============================] - 0s 23ms/step - loss: 0.6934 - categorical_accuracy: 0.6951\n",
      "Epoch 197/200\n",
      "10/10 [==============================] - 0s 21ms/step - loss: 0.6152 - categorical_accuracy: 0.7181\n",
      "Epoch 198/200\n",
      "10/10 [==============================] - 0s 20ms/step - loss: 0.4623 - categorical_accuracy: 0.8058\n",
      "Epoch 199/200\n",
      "10/10 [==============================] - 0s 22ms/step - loss: 0.4155 - categorical_accuracy: 0.8383\n",
      "Epoch 200/200\n",
      "10/10 [==============================] - 0s 22ms/step - loss: 0.3527 - categorical_accuracy: 0.8795\n"
     ]
    },
    {
     "data": {
      "text/plain": [
       "<tensorflow.python.keras.callbacks.History at 0x7f9d72079b90>"
      ]
     },
     "execution_count": 45,
     "metadata": {},
     "output_type": "execute_result"
    }
   ],
   "source": [
    "model.fit(X_train, y_train, steps_per_epoch = 10, epochs=200, callbacks=[tb_callback])"
   ]
  },
  {
   "cell_type": "code",
   "execution_count": 46,
   "metadata": {},
   "outputs": [
    {
     "name": "stdout",
     "output_type": "stream",
     "text": [
      "Model: \"sequential_1\"\n",
      "_________________________________________________________________\n",
      "Layer (type)                 Output Shape              Param #   \n",
      "=================================================================\n",
      "lstm_3 (LSTM)                (None, 10, 64)            48896     \n",
      "_________________________________________________________________\n",
      "lstm_4 (LSTM)                (None, 10, 128)           98816     \n",
      "_________________________________________________________________\n",
      "lstm_5 (LSTM)                (None, 64)                49408     \n",
      "_________________________________________________________________\n",
      "dense_3 (Dense)              (None, 64)                4160      \n",
      "_________________________________________________________________\n",
      "dense_4 (Dense)              (None, 32)                2080      \n",
      "_________________________________________________________________\n",
      "dense_5 (Dense)              (None, 6)                 198       \n",
      "=================================================================\n",
      "Total params: 203,558\n",
      "Trainable params: 203,558\n",
      "Non-trainable params: 0\n",
      "_________________________________________________________________\n"
     ]
    }
   ],
   "source": [
    "model.summary()"
   ]
  },
  {
   "cell_type": "code",
   "execution_count": 47,
   "metadata": {},
   "outputs": [
    {
     "data": {
      "text/plain": [
       "array([[ 0.        ,  0.        ,  0.        , ...,  0.43856904,\n",
       "         0.23973034, -0.06063496],\n",
       "       [ 0.        ,  0.        ,  0.        , ...,  0.43856904,\n",
       "         0.23973034, -0.06063496],\n",
       "       [ 0.        ,  0.        ,  0.        , ...,  0.43856904,\n",
       "         0.23973034, -0.06063496],\n",
       "       ...,\n",
       "       [ 0.        ,  0.        ,  0.        , ...,  0.43856904,\n",
       "         0.23973034, -0.06063496],\n",
       "       [ 0.        ,  0.        ,  0.        , ...,  0.43856904,\n",
       "         0.23973034, -0.06063496],\n",
       "       [ 0.        ,  0.        ,  0.        , ...,  0.43856904,\n",
       "         0.23973034, -0.06063496]])"
      ]
     },
     "execution_count": 47,
     "metadata": {},
     "output_type": "execute_result"
    }
   ],
   "source": [
    "X_test[1]"
   ]
  },
  {
   "cell_type": "code",
   "execution_count": 48,
   "metadata": {},
   "outputs": [
    {
     "name": "stdout",
     "output_type": "stream",
     "text": [
      "i\n",
      "a\n"
     ]
    }
   ],
   "source": [
    "res = model.predict(X_test)\n",
    "\n",
    "# to check some values \n",
    "actions = np.array(actions)\n",
    "print(actions[np.argmax(res[4])])\n",
    "print(actions[np.argmax(y_test[4])])"
   ]
  },
  {
   "cell_type": "code",
   "execution_count": 49,
   "metadata": {},
   "outputs": [],
   "source": [
    "# model.save('video_model7_weights')"
   ]
  },
  {
   "cell_type": "code",
   "execution_count": 50,
   "metadata": {},
   "outputs": [
    {
     "data": {
      "text/plain": [
       "array([[[ 0.        ,  0.        ,  0.        , ...,  0.38093248,\n",
       "          0.56406164, -0.0666336 ],\n",
       "        [ 0.        ,  0.        ,  0.        , ...,  0.38093248,\n",
       "          0.56406164, -0.0666336 ],\n",
       "        [ 0.        ,  0.        ,  0.        , ...,  0.38093248,\n",
       "          0.56406164, -0.0666336 ],\n",
       "        ...,\n",
       "        [ 0.        ,  0.        ,  0.        , ...,  0.38093248,\n",
       "          0.56406164, -0.0666336 ],\n",
       "        [ 0.        ,  0.        ,  0.        , ...,  0.38093248,\n",
       "          0.56406164, -0.0666336 ],\n",
       "        [ 0.        ,  0.        ,  0.        , ...,  0.38093248,\n",
       "          0.56406164, -0.0666336 ]],\n",
       "\n",
       "       [[ 0.        ,  0.        ,  0.        , ...,  0.43856904,\n",
       "          0.23973034, -0.06063496],\n",
       "        [ 0.        ,  0.        ,  0.        , ...,  0.43856904,\n",
       "          0.23973034, -0.06063496],\n",
       "        [ 0.        ,  0.        ,  0.        , ...,  0.43856904,\n",
       "          0.23973034, -0.06063496],\n",
       "        ...,\n",
       "        [ 0.        ,  0.        ,  0.        , ...,  0.43856904,\n",
       "          0.23973034, -0.06063496],\n",
       "        [ 0.        ,  0.        ,  0.        , ...,  0.43856904,\n",
       "          0.23973034, -0.06063496],\n",
       "        [ 0.        ,  0.        ,  0.        , ...,  0.43856904,\n",
       "          0.23973034, -0.06063496]],\n",
       "\n",
       "       [[ 0.        ,  0.        ,  0.        , ...,  0.38251573,\n",
       "          0.33274043, -0.00915813],\n",
       "        [ 0.        ,  0.        ,  0.        , ...,  0.38251573,\n",
       "          0.33274043, -0.00915813],\n",
       "        [ 0.        ,  0.        ,  0.        , ...,  0.38251573,\n",
       "          0.33274043, -0.00915813],\n",
       "        ...,\n",
       "        [ 0.        ,  0.        ,  0.        , ...,  0.38251573,\n",
       "          0.33274043, -0.00915813],\n",
       "        [ 0.        ,  0.        ,  0.        , ...,  0.38251573,\n",
       "          0.33274043, -0.00915813],\n",
       "        [ 0.        ,  0.        ,  0.        , ...,  0.38251573,\n",
       "          0.33274043, -0.00915813]],\n",
       "\n",
       "       ...,\n",
       "\n",
       "       [[ 0.        ,  0.        ,  0.        , ...,  0.18035199,\n",
       "          0.59582263, -0.06847899],\n",
       "        [ 0.        ,  0.        ,  0.        , ...,  0.18035199,\n",
       "          0.59582263, -0.06847899],\n",
       "        [ 0.        ,  0.        ,  0.        , ...,  0.18035199,\n",
       "          0.59582263, -0.06847899],\n",
       "        ...,\n",
       "        [ 0.        ,  0.        ,  0.        , ...,  0.18035199,\n",
       "          0.59582263, -0.06847899],\n",
       "        [ 0.        ,  0.        ,  0.        , ...,  0.18035199,\n",
       "          0.59582263, -0.06847899],\n",
       "        [ 0.        ,  0.        ,  0.        , ...,  0.18035199,\n",
       "          0.59582263, -0.06847899]],\n",
       "\n",
       "       [[ 0.        ,  0.        ,  0.        , ...,  0.72620577,\n",
       "          0.38644356, -0.03090345],\n",
       "        [ 0.        ,  0.        ,  0.        , ...,  0.72620577,\n",
       "          0.38644356, -0.03090345],\n",
       "        [ 0.        ,  0.        ,  0.        , ...,  0.72620577,\n",
       "          0.38644356, -0.03090345],\n",
       "        ...,\n",
       "        [ 0.        ,  0.        ,  0.        , ...,  0.72620577,\n",
       "          0.38644356, -0.03090345],\n",
       "        [ 0.        ,  0.        ,  0.        , ...,  0.72620577,\n",
       "          0.38644356, -0.03090345],\n",
       "        [ 0.        ,  0.        ,  0.        , ...,  0.72620577,\n",
       "          0.38644356, -0.03090345]],\n",
       "\n",
       "       [[ 0.        ,  0.        ,  0.        , ...,  0.32424423,\n",
       "          0.42701194,  0.00667591],\n",
       "        [ 0.        ,  0.        ,  0.        , ...,  0.32424423,\n",
       "          0.42701194,  0.00667591],\n",
       "        [ 0.        ,  0.        ,  0.        , ...,  0.32424423,\n",
       "          0.42701194,  0.00667591],\n",
       "        ...,\n",
       "        [ 0.        ,  0.        ,  0.        , ...,  0.32424423,\n",
       "          0.42701194,  0.00667591],\n",
       "        [ 0.        ,  0.        ,  0.        , ...,  0.32424423,\n",
       "          0.42701194,  0.00667591],\n",
       "        [ 0.        ,  0.        ,  0.        , ...,  0.32424423,\n",
       "          0.42701194,  0.00667591]]])"
      ]
     },
     "execution_count": 50,
     "metadata": {},
     "output_type": "execute_result"
    }
   ],
   "source": [
    "X_test"
   ]
  },
  {
   "cell_type": "code",
   "execution_count": 51,
   "metadata": {},
   "outputs": [],
   "source": [
    "from sklearn.metrics import multilabel_confusion_matrix, accuracy_score\n",
    "yhat = model.predict(X_test)\n",
    "ytrue = np.argmax(y_test, axis=1).tolist()\n",
    "yhat = np.argmax(yhat, axis=1).tolist()"
   ]
  },
  {
   "cell_type": "code",
   "execution_count": 52,
   "metadata": {},
   "outputs": [
    {
     "data": {
      "text/plain": [
       "array([[[6, 0],\n",
       "        [2, 0]],\n",
       "\n",
       "       [[6, 0],\n",
       "        [2, 0]],\n",
       "\n",
       "       [[4, 2],\n",
       "        [0, 2]],\n",
       "\n",
       "       [[5, 2],\n",
       "        [0, 1]],\n",
       "\n",
       "       [[7, 0],\n",
       "        [0, 1]]])"
      ]
     },
     "execution_count": 52,
     "metadata": {},
     "output_type": "execute_result"
    }
   ],
   "source": [
    "multilabel_confusion_matrix(ytrue, yhat)"
   ]
  },
  {
   "cell_type": "code",
   "execution_count": 53,
   "metadata": {},
   "outputs": [
    {
     "data": {
      "text/plain": [
       "0.5"
      ]
     },
     "execution_count": 53,
     "metadata": {},
     "output_type": "execute_result"
    }
   ],
   "source": [
    "accuracy_score(ytrue, yhat)"
   ]
  },
  {
   "cell_type": "code",
   "execution_count": 2,
   "metadata": {},
   "outputs": [],
   "source": [
    "import numpy as np"
   ]
  },
  {
   "cell_type": "code",
   "execution_count": 33,
   "metadata": {},
   "outputs": [
    {
     "ename": "ValueError",
     "evalue": "Object arrays cannot be loaded when allow_pickle=False",
     "output_type": "error",
     "traceback": [
      "\u001b[0;31m---------------------------------------------------------------------------\u001b[0m",
      "\u001b[0;31mValueError\u001b[0m                                Traceback (most recent call last)",
      "\u001b[0;32m/var/folders/m6/hdvcc7791jx1bd9d61b94drc0000gp/T/ipykernel_23391/1285506904.py\u001b[0m in \u001b[0;36m<module>\u001b[0;34m\u001b[0m\n\u001b[0;32m----> 1\u001b[0;31m \u001b[0mnp\u001b[0m\u001b[0;34m.\u001b[0m\u001b[0mload\u001b[0m\u001b[0;34m(\u001b[0m\u001b[0;34m'../data/processed_data/MP_Data/bien/1/0.npy'\u001b[0m\u001b[0;34m)\u001b[0m\u001b[0;34m\u001b[0m\u001b[0;34m\u001b[0m\u001b[0m\n\u001b[0m",
      "\u001b[0;32m/Library/Frameworks/Python.framework/Versions/3.7/lib/python3.7/site-packages/numpy/lib/npyio.py\u001b[0m in \u001b[0;36mload\u001b[0;34m(file, mmap_mode, allow_pickle, fix_imports, encoding)\u001b[0m\n\u001b[1;32m    439\u001b[0m             \u001b[0;32melse\u001b[0m\u001b[0;34m:\u001b[0m\u001b[0;34m\u001b[0m\u001b[0;34m\u001b[0m\u001b[0m\n\u001b[1;32m    440\u001b[0m                 return format.read_array(fid, allow_pickle=allow_pickle,\n\u001b[0;32m--> 441\u001b[0;31m                                          pickle_kwargs=pickle_kwargs)\n\u001b[0m\u001b[1;32m    442\u001b[0m         \u001b[0;32melse\u001b[0m\u001b[0;34m:\u001b[0m\u001b[0;34m\u001b[0m\u001b[0;34m\u001b[0m\u001b[0m\n\u001b[1;32m    443\u001b[0m             \u001b[0;31m# Try a pickle\u001b[0m\u001b[0;34m\u001b[0m\u001b[0;34m\u001b[0m\u001b[0;34m\u001b[0m\u001b[0m\n",
      "\u001b[0;32m/Library/Frameworks/Python.framework/Versions/3.7/lib/python3.7/site-packages/numpy/lib/format.py\u001b[0m in \u001b[0;36mread_array\u001b[0;34m(fp, allow_pickle, pickle_kwargs)\u001b[0m\n\u001b[1;32m    741\u001b[0m         \u001b[0;31m# The array contained Python objects. We need to unpickle the data.\u001b[0m\u001b[0;34m\u001b[0m\u001b[0;34m\u001b[0m\u001b[0;34m\u001b[0m\u001b[0m\n\u001b[1;32m    742\u001b[0m         \u001b[0;32mif\u001b[0m \u001b[0;32mnot\u001b[0m \u001b[0mallow_pickle\u001b[0m\u001b[0;34m:\u001b[0m\u001b[0;34m\u001b[0m\u001b[0;34m\u001b[0m\u001b[0m\n\u001b[0;32m--> 743\u001b[0;31m             raise ValueError(\"Object arrays cannot be loaded when \"\n\u001b[0m\u001b[1;32m    744\u001b[0m                              \"allow_pickle=False\")\n\u001b[1;32m    745\u001b[0m         \u001b[0;32mif\u001b[0m \u001b[0mpickle_kwargs\u001b[0m \u001b[0;32mis\u001b[0m \u001b[0;32mNone\u001b[0m\u001b[0;34m:\u001b[0m\u001b[0;34m\u001b[0m\u001b[0;34m\u001b[0m\u001b[0m\n",
      "\u001b[0;31mValueError\u001b[0m: Object arrays cannot be loaded when allow_pickle=False"
     ]
    }
   ],
   "source": [
    "np.load('../data/processed_data/MP_Data/bien/1/0.npy')"
   ]
  }
 ],
 "metadata": {
  "interpreter": {
   "hash": "29fc651a7b730cd70b5cc0d1ba484563eb58f5d47650e0848ded60a3fec35677"
  },
  "kernelspec": {
   "display_name": "Python 3.7.4 ('venv': venv)",
   "language": "python",
   "name": "python3"
  },
  "language_info": {
   "codemirror_mode": {
    "name": "ipython",
    "version": 3
   },
   "file_extension": ".py",
   "mimetype": "text/x-python",
   "name": "python",
   "nbconvert_exporter": "python",
   "pygments_lexer": "ipython3",
   "version": "3.7.4"
  },
  "orig_nbformat": 4
 },
 "nbformat": 4,
 "nbformat_minor": 2
}
