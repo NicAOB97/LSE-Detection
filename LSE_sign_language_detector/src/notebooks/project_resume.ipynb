{
 "cells": [
  {
   "cell_type": "markdown",
   "metadata": {},
   "source": [
    "# Detector de Lengua de Signos Española\n",
    "# (LSE Sign Language Detector)"
   ]
  },
  {
   "cell_type": "markdown",
   "metadata": {},
   "source": [
    "## Pasos (steps)"
   ]
  },
  {
   "cell_type": "markdown",
   "metadata": {},
   "source": [
    "- Recoleccion de imagenes \n",
    "- Prueba de mediapipe solutions en imagenes de LSE\n",
    "- Recoleccion de videos\n",
    "- Procesamiento de video \n",
    "    - aplicación de mediapipe solutions\n",
    "    - extracción de coordenadas de puntos clave de las manos (datos procesados)\n",
    "- Entrenamiento de modelo (red neuronal)"
   ]
  },
  {
   "cell_type": "markdown",
   "metadata": {},
   "source": [
    "- Picture colection\n",
    "- Mediapipe test on pictures\n",
    "- Video colection\n",
    "- Video processing\n",
    "    - mediapipe solutions applied to videos\n",
    "    - extraction of keypoints\n",
    "- Model training (neural net)"
   ]
  },
  {
   "cell_type": "markdown",
   "metadata": {},
   "source": [
    "https://google.github.io/mediapipe/solutions/hands.html#max_num_hands"
   ]
  },
  {
   "cell_type": "markdown",
   "metadata": {},
   "source": [
    "### Mediapipe solutions"
   ]
  },
  {
   "cell_type": "markdown",
   "metadata": {},
   "source": [
    "1. MediaPipe Hands = solución de seguimiento de manos y dedos\n",
    "    modelo de detección manual \n",
    "    modelo de punto de referencia de mano: devuelve puntos clave\n",
    "    (soluciones proporcionadas por Google - código fuente abierto)\n",
    "    - STATIC_IMAGE_MODE - Falso: para la pantalla de video, detecta y luego solo rastrea\n",
    "    - MAX_NUM_MANOS - predeterminado: 2\n",
    "    - MAX_NUM_HANDS & MIN_TRACKING_CONFIDENCE - predeterminado: 0.5"
   ]
  },
  {
   "cell_type": "markdown",
   "metadata": {},
   "source": [
    "1. MediaPipe Hands = hand and finger tracking solution\n",
    "    hand detection model - drawing the box\n",
    "    hand landmark model -returns keypoints\n",
    "    (solutions provided by google's - open source code)\n",
    "    - STATIC_IMAGE_MODE - False: for video screen, detects and then just tracks \n",
    "    - MAX_NUM_HANDS - defautl: 2\n",
    "    - MAX_NUM_HANDS & MIN_TRACKING_CONFIDENCE - default: 0.5"
   ]
  }
 ],
 "metadata": {
  "interpreter": {
   "hash": "29fc651a7b730cd70b5cc0d1ba484563eb58f5d47650e0848ded60a3fec35677"
  },
  "kernelspec": {
   "display_name": "Python 3.7.4 ('venv': venv)",
   "language": "python",
   "name": "python3"
  },
  "language_info": {
   "codemirror_mode": {
    "name": "ipython",
    "version": 3
   },
   "file_extension": ".py",
   "mimetype": "text/x-python",
   "name": "python",
   "nbconvert_exporter": "python",
   "pygments_lexer": "ipython3",
   "version": "3.7.4"
  },
  "orig_nbformat": 4
 },
 "nbformat": 4,
 "nbformat_minor": 2
}
